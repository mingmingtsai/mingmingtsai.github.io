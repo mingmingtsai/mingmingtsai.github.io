{
  "nbformat": 4,
  "nbformat_minor": 0,
  "metadata": {
    "colab": {
      "name": "1A2B-猜數字遊戲",
      "provenance": [],
      "collapsed_sections": [],
      "authorship_tag": "ABX9TyOtM97GkQ7mBn1zbHVpZJH1",
      "include_colab_link": true
    },
    "kernelspec": {
      "name": "python3",
      "display_name": "Python 3"
    },
    "language_info": {
      "name": "python"
    }
  },
  "cells": [
    {
      "cell_type": "markdown",
      "metadata": {
        "id": "view-in-github",
        "colab_type": "text"
      },
      "source": [
        "<a href=\"https://colab.research.google.com/github/mingmingtsai/mingmingtsai.github.io/blob/main/1A2B_%E7%8C%9C%E6%95%B8%E5%AD%97%E9%81%8A%E6%88%B2.ipynb\" target=\"_parent\"><img src=\"https://colab.research.google.com/assets/colab-badge.svg\" alt=\"Open In Colab\"/></a>"
      ]
    },
    {
      "cell_type": "markdown",
      "metadata": {
        "id": "pBE8oXWrDVXd"
      },
      "source": [
        "從random模組匯入randint函式，初始化需要的清單和變數。"
      ]
    },
    {
      "cell_type": "code",
      "metadata": {
        "id": "xd6jtVMWC32M"
      },
      "source": [
        "from random import randint\n",
        "\n",
        "answer = ''\n",
        "count_a = 0\n",
        "count_b = 0\n",
        "times = 1\n",
        "\n",
        "numbers = [0,1,2,3,4,5,6,7,8,9]\n",
        "random_answer = []"
      ],
      "execution_count": null,
      "outputs": []
    },
    {
      "cell_type": "markdown",
      "metadata": {
        "id": "_or4O9KDDSpT"
      },
      "source": [
        "建立正確答案"
      ]
    },
    {
      "cell_type": "code",
      "metadata": {
        "id": "sRyvAUMtEKGm",
        "colab": {
          "base_uri": "https://localhost:8080/"
        },
        "outputId": "82e7d54f-bdaa-4d88-aaff-03af98c16bd6"
      },
      "source": [
        "for i in range(4):\n",
        "    j = randint(0,9-i)\n",
        "    random_answer.append(numbers[j])\n",
        "    numbers.remove(numbers[j])\n",
        "    i+=1\n",
        "\n",
        "for i in range(4):\n",
        "    answer = answer + str(random_answer[i])\n",
        "print(answer)"
      ],
      "execution_count": null,
      "outputs": [
        {
          "output_type": "stream",
          "name": "stdout",
          "text": [
            "0473\n"
          ]
        }
      ]
    },
    {
      "cell_type": "markdown",
      "metadata": {
        "id": "bX5SFoi9EUiG"
      },
      "source": [
        "開始猜數字，最多可猜八次。"
      ]
    },
    {
      "cell_type": "code",
      "metadata": {
        "colab": {
          "base_uri": "https://localhost:8080/"
        },
        "id": "_NPFZ9LVEecq",
        "outputId": "4c52fbd4-5401-4ca4-8ccb-cde19ccff8fe"
      },
      "source": [
        "input_number = input('請輸入您猜測的4個數：')\n",
        "while times < 8 and input_number != answer:\n",
        "    for i in range(4):\n",
        "        for j in range(4):\n",
        "            if i==j and input_number[i]==answer[j]:\n",
        "                count_a+=1\n",
        "            elif input_number[i]==answer[j]:\n",
        "                count_b+=1\n",
        "    print(str(count_a)+'A'+str(count_b)+'B')\n",
        "    count_a=0\n",
        "    count_b=0\n",
        "    times+=1\n",
        "    input_number = input('請輸入您猜測的4個數：')"
      ],
      "execution_count": null,
      "outputs": [
        {
          "name": "stdout",
          "output_type": "stream",
          "text": [
            "請輸入您猜測的4個數：0437\n",
            "2A2B\n",
            "請輸入您猜測的4個數：0734\n",
            "1A3B\n",
            "請輸入您猜測的4個數：0473\n"
          ]
        }
      ]
    },
    {
      "cell_type": "markdown",
      "metadata": {
        "id": "jNdv7Xx5Eoyx"
      },
      "source": [
        "輸出猜數字結果"
      ]
    },
    {
      "cell_type": "code",
      "metadata": {
        "colab": {
          "base_uri": "https://localhost:8080/"
        },
        "id": "nRQQsiTqEvWb",
        "outputId": "5c4d2598-1e9b-411d-bc8d-09aaf9998789"
      },
      "source": [
        "if input_number == answer:\n",
        "    print('您答對了，正確答案是 '+answer)\n",
        "else:\n",
        "    print('作答已達8次，遊戲結束，正確答案是 '+answer)"
      ],
      "execution_count": null,
      "outputs": [
        {
          "output_type": "stream",
          "name": "stdout",
          "text": [
            "您答對了，正確答案是 0473\n"
          ]
        }
      ]
    }
  ]
}